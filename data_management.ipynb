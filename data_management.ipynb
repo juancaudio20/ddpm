{
 "cells": [
  {
   "cell_type": "code",
   "execution_count": 1,
   "id": "initial_id",
   "metadata": {
    "collapsed": true,
    "ExecuteTime": {
     "end_time": "2023-11-13T09:45:58.804423100Z",
     "start_time": "2023-11-13T09:45:53.185679200Z"
    }
   },
   "outputs": [],
   "source": [
    "from hartufo import HutubsPlane, ItaPlane\n",
    "import hartufo\n",
    "from pathlib import Path\n",
    "import matplotlib.pyplot as plt\n",
    "import scipy.signal\n",
    "import soundfile as sf\n",
    "import numpy as np\n",
    "import librosa\n",
    "import random\n",
    "import torchaudio"
   ]
  },
  {
   "cell_type": "code",
   "execution_count": 2,
   "outputs": [],
   "source": [
    "base_dir = Path('/nas/home/jalbarracin/datasets/HUTUBS')"
   ],
   "metadata": {
    "collapsed": false,
    "ExecuteTime": {
     "end_time": "2023-11-13T09:46:50.834401500Z",
     "start_time": "2023-11-13T09:46:50.818774300Z"
    }
   },
   "id": "26113d9285a4fc79"
  },
  {
   "cell_type": "code",
   "execution_count": 3,
   "outputs": [
    {
     "name": "stdout",
     "output_type": "stream",
     "text": [
      "Downloading https://sofacoustics.org/data/database/hutubs/AntrhopometricMeasures.csv to /nas/home/jalbarracin/datasets/HUTUBS/HUTUBS/AntrhopometricMeasures.csv\n"
     ]
    },
    {
     "name": "stderr",
     "output_type": "stream",
     "text": [
      "100%|██████████| 22936/22936 [00:00<00:00, 3745981.72it/s]\n"
     ]
    },
    {
     "name": "stdout",
     "output_type": "stream",
     "text": [
      "Downloading https://sofacoustics.org/data/database/hutubs/pp1_HRIRs_measured.sofa to /nas/home/jalbarracin/datasets/HUTUBS/HUTUBS/sofa/pp1_HRIRs_measured.sofa\n"
     ]
    },
    {
     "name": "stderr",
     "output_type": "stream",
     "text": [
      "100%|██████████| 1659720/1659720 [00:00<00:00, 15439313.34it/s]\n"
     ]
    },
    {
     "name": "stdout",
     "output_type": "stream",
     "text": [
      "Downloading https://sofacoustics.org/data/database/hutubs/pp2_HRIRs_measured.sofa to /nas/home/jalbarracin/datasets/HUTUBS/HUTUBS/sofa/pp2_HRIRs_measured.sofa\n"
     ]
    },
    {
     "name": "stderr",
     "output_type": "stream",
     "text": [
      "100%|██████████| 1658802/1658802 [00:00<00:00, 16114359.78it/s]\n"
     ]
    },
    {
     "name": "stdout",
     "output_type": "stream",
     "text": [
      "Downloading https://sofacoustics.org/data/database/hutubs/pp3_HRIRs_measured.sofa to /nas/home/jalbarracin/datasets/HUTUBS/HUTUBS/sofa/pp3_HRIRs_measured.sofa\n"
     ]
    },
    {
     "name": "stderr",
     "output_type": "stream",
     "text": [
      "100%|██████████| 1656697/1656697 [00:00<00:00, 14142643.43it/s]\n"
     ]
    },
    {
     "name": "stdout",
     "output_type": "stream",
     "text": [
      "Downloading https://sofacoustics.org/data/database/hutubs/pp4_HRIRs_measured.sofa to /nas/home/jalbarracin/datasets/HUTUBS/HUTUBS/sofa/pp4_HRIRs_measured.sofa\n"
     ]
    },
    {
     "name": "stderr",
     "output_type": "stream",
     "text": [
      "100%|██████████| 1656114/1656114 [00:00<00:00, 17822036.29it/s]\n"
     ]
    },
    {
     "name": "stdout",
     "output_type": "stream",
     "text": [
      "Downloading https://sofacoustics.org/data/database/hutubs/pp5_HRIRs_measured.sofa to /nas/home/jalbarracin/datasets/HUTUBS/HUTUBS/sofa/pp5_HRIRs_measured.sofa\n"
     ]
    },
    {
     "name": "stderr",
     "output_type": "stream",
     "text": [
      "100%|██████████| 1656325/1656325 [00:00<00:00, 15132195.82it/s]\n"
     ]
    },
    {
     "name": "stdout",
     "output_type": "stream",
     "text": [
      "Downloading https://sofacoustics.org/data/database/hutubs/pp6_HRIRs_measured.sofa to /nas/home/jalbarracin/datasets/HUTUBS/HUTUBS/sofa/pp6_HRIRs_measured.sofa\n"
     ]
    },
    {
     "name": "stderr",
     "output_type": "stream",
     "text": [
      "100%|██████████| 1659182/1659182 [00:00<00:00, 17142616.40it/s]\n"
     ]
    },
    {
     "name": "stdout",
     "output_type": "stream",
     "text": [
      "Downloading https://sofacoustics.org/data/database/hutubs/pp7_HRIRs_measured.sofa to /nas/home/jalbarracin/datasets/HUTUBS/HUTUBS/sofa/pp7_HRIRs_measured.sofa\n"
     ]
    },
    {
     "name": "stderr",
     "output_type": "stream",
     "text": [
      "100%|██████████| 1655994/1655994 [00:00<00:00, 15634549.13it/s]\n"
     ]
    },
    {
     "name": "stdout",
     "output_type": "stream",
     "text": [
      "Downloading https://sofacoustics.org/data/database/hutubs/pp8_HRIRs_measured.sofa to /nas/home/jalbarracin/datasets/HUTUBS/HUTUBS/sofa/pp8_HRIRs_measured.sofa\n"
     ]
    },
    {
     "name": "stderr",
     "output_type": "stream",
     "text": [
      "100%|██████████| 1659431/1659431 [00:00<00:00, 17447241.04it/s]\n"
     ]
    },
    {
     "name": "stdout",
     "output_type": "stream",
     "text": [
      "Downloading https://sofacoustics.org/data/database/hutubs/pp9_HRIRs_measured.sofa to /nas/home/jalbarracin/datasets/HUTUBS/HUTUBS/sofa/pp9_HRIRs_measured.sofa\n"
     ]
    },
    {
     "name": "stderr",
     "output_type": "stream",
     "text": [
      "100%|██████████| 1660515/1660515 [00:00<00:00, 17525987.39it/s]\n"
     ]
    },
    {
     "name": "stdout",
     "output_type": "stream",
     "text": [
      "Downloading https://sofacoustics.org/data/database/hutubs/pp10_HRIRs_measured.sofa to /nas/home/jalbarracin/datasets/HUTUBS/HUTUBS/sofa/pp10_HRIRs_measured.sofa\n"
     ]
    },
    {
     "name": "stderr",
     "output_type": "stream",
     "text": [
      "100%|██████████| 1658830/1658830 [00:00<00:00, 3611016.15it/s]\n"
     ]
    },
    {
     "name": "stdout",
     "output_type": "stream",
     "text": [
      "Downloading https://sofacoustics.org/data/database/hutubs/pp11_HRIRs_measured.sofa to /nas/home/jalbarracin/datasets/HUTUBS/HUTUBS/sofa/pp11_HRIRs_measured.sofa\n"
     ]
    },
    {
     "name": "stderr",
     "output_type": "stream",
     "text": [
      "100%|██████████| 1661466/1661466 [00:00<00:00, 14150924.43it/s]\n"
     ]
    },
    {
     "name": "stdout",
     "output_type": "stream",
     "text": [
      "Downloading https://sofacoustics.org/data/database/hutubs/pp12_HRIRs_measured.sofa to /nas/home/jalbarracin/datasets/HUTUBS/HUTUBS/sofa/pp12_HRIRs_measured.sofa\n"
     ]
    },
    {
     "name": "stderr",
     "output_type": "stream",
     "text": [
      "100%|██████████| 1658718/1658718 [00:00<00:00, 17583479.82it/s]\n"
     ]
    },
    {
     "name": "stdout",
     "output_type": "stream",
     "text": [
      "Downloading https://sofacoustics.org/data/database/hutubs/pp13_HRIRs_measured.sofa to /nas/home/jalbarracin/datasets/HUTUBS/HUTUBS/sofa/pp13_HRIRs_measured.sofa\n"
     ]
    },
    {
     "name": "stderr",
     "output_type": "stream",
     "text": [
      "100%|██████████| 1656806/1656806 [00:00<00:00, 14193695.25it/s]\n"
     ]
    },
    {
     "name": "stdout",
     "output_type": "stream",
     "text": [
      "Downloading https://sofacoustics.org/data/database/hutubs/pp14_HRIRs_measured.sofa to /nas/home/jalbarracin/datasets/HUTUBS/HUTUBS/sofa/pp14_HRIRs_measured.sofa\n"
     ]
    },
    {
     "name": "stderr",
     "output_type": "stream",
     "text": [
      "100%|██████████| 1658871/1658871 [00:00<00:00, 17084021.09it/s]\n"
     ]
    },
    {
     "name": "stdout",
     "output_type": "stream",
     "text": [
      "Downloading https://sofacoustics.org/data/database/hutubs/pp15_HRIRs_measured.sofa to /nas/home/jalbarracin/datasets/HUTUBS/HUTUBS/sofa/pp15_HRIRs_measured.sofa\n"
     ]
    },
    {
     "name": "stderr",
     "output_type": "stream",
     "text": [
      "100%|██████████| 1656184/1656184 [00:00<00:00, 15498679.56it/s]\n"
     ]
    },
    {
     "name": "stdout",
     "output_type": "stream",
     "text": [
      "Downloading https://sofacoustics.org/data/database/hutubs/pp16_HRIRs_measured.sofa to /nas/home/jalbarracin/datasets/HUTUBS/HUTUBS/sofa/pp16_HRIRs_measured.sofa\n"
     ]
    },
    {
     "name": "stderr",
     "output_type": "stream",
     "text": [
      "100%|██████████| 1659629/1659629 [00:00<00:00, 17250751.03it/s]\n"
     ]
    },
    {
     "name": "stdout",
     "output_type": "stream",
     "text": [
      "Downloading https://sofacoustics.org/data/database/hutubs/pp17_HRIRs_measured.sofa to /nas/home/jalbarracin/datasets/HUTUBS/HUTUBS/sofa/pp17_HRIRs_measured.sofa\n"
     ]
    },
    {
     "name": "stderr",
     "output_type": "stream",
     "text": [
      "100%|██████████| 1660497/1660497 [00:00<00:00, 17188381.88it/s]\n"
     ]
    },
    {
     "name": "stdout",
     "output_type": "stream",
     "text": [
      "Downloading https://sofacoustics.org/data/database/hutubs/pp18_HRIRs_measured.sofa to /nas/home/jalbarracin/datasets/HUTUBS/HUTUBS/sofa/pp18_HRIRs_measured.sofa\n"
     ]
    },
    {
     "name": "stderr",
     "output_type": "stream",
     "text": [
      "100%|██████████| 1657420/1657420 [00:00<00:00, 16663526.56it/s]\n"
     ]
    },
    {
     "name": "stdout",
     "output_type": "stream",
     "text": [
      "Downloading https://sofacoustics.org/data/database/hutubs/pp19_HRIRs_measured.sofa to /nas/home/jalbarracin/datasets/HUTUBS/HUTUBS/sofa/pp19_HRIRs_measured.sofa\n"
     ]
    },
    {
     "name": "stderr",
     "output_type": "stream",
     "text": [
      "100%|██████████| 1658739/1658739 [00:00<00:00, 17265760.91it/s]\n"
     ]
    },
    {
     "name": "stdout",
     "output_type": "stream",
     "text": [
      "Downloading https://sofacoustics.org/data/database/hutubs/pp20_HRIRs_measured.sofa to /nas/home/jalbarracin/datasets/HUTUBS/HUTUBS/sofa/pp20_HRIRs_measured.sofa\n"
     ]
    },
    {
     "name": "stderr",
     "output_type": "stream",
     "text": [
      "100%|██████████| 1656716/1656716 [00:00<00:00, 17525316.70it/s]\n"
     ]
    },
    {
     "name": "stdout",
     "output_type": "stream",
     "text": [
      "Downloading https://sofacoustics.org/data/database/hutubs/pp21_HRIRs_measured.sofa to /nas/home/jalbarracin/datasets/HUTUBS/HUTUBS/sofa/pp21_HRIRs_measured.sofa\n"
     ]
    },
    {
     "name": "stderr",
     "output_type": "stream",
     "text": [
      "100%|██████████| 1658140/1658140 [00:00<00:00, 16924316.52it/s]\n"
     ]
    },
    {
     "name": "stdout",
     "output_type": "stream",
     "text": [
      "Downloading https://sofacoustics.org/data/database/hutubs/pp22_HRIRs_measured.sofa to /nas/home/jalbarracin/datasets/HUTUBS/HUTUBS/sofa/pp22_HRIRs_measured.sofa\n"
     ]
    },
    {
     "name": "stderr",
     "output_type": "stream",
     "text": [
      "100%|██████████| 1657621/1657621 [00:00<00:00, 17894864.37it/s]\n"
     ]
    },
    {
     "name": "stdout",
     "output_type": "stream",
     "text": [
      "Downloading https://sofacoustics.org/data/database/hutubs/pp23_HRIRs_measured.sofa to /nas/home/jalbarracin/datasets/HUTUBS/HUTUBS/sofa/pp23_HRIRs_measured.sofa\n"
     ]
    },
    {
     "name": "stderr",
     "output_type": "stream",
     "text": [
      "100%|██████████| 1657196/1657196 [00:00<00:00, 17409864.17it/s]\n"
     ]
    },
    {
     "name": "stdout",
     "output_type": "stream",
     "text": [
      "Downloading https://sofacoustics.org/data/database/hutubs/pp24_HRIRs_measured.sofa to /nas/home/jalbarracin/datasets/HUTUBS/HUTUBS/sofa/pp24_HRIRs_measured.sofa\n"
     ]
    },
    {
     "name": "stderr",
     "output_type": "stream",
     "text": [
      "100%|██████████| 1659055/1659055 [00:00<00:00, 15478028.33it/s]\n"
     ]
    },
    {
     "name": "stdout",
     "output_type": "stream",
     "text": [
      "Downloading https://sofacoustics.org/data/database/hutubs/pp25_HRIRs_measured.sofa to /nas/home/jalbarracin/datasets/HUTUBS/HUTUBS/sofa/pp25_HRIRs_measured.sofa\n"
     ]
    },
    {
     "name": "stderr",
     "output_type": "stream",
     "text": [
      "100%|██████████| 1655304/1655304 [00:00<00:00, 17276439.50it/s]\n"
     ]
    },
    {
     "name": "stdout",
     "output_type": "stream",
     "text": [
      "Downloading https://sofacoustics.org/data/database/hutubs/pp26_HRIRs_measured.sofa to /nas/home/jalbarracin/datasets/HUTUBS/HUTUBS/sofa/pp26_HRIRs_measured.sofa\n"
     ]
    },
    {
     "name": "stderr",
     "output_type": "stream",
     "text": [
      "100%|██████████| 1658098/1658098 [00:00<00:00, 17160838.46it/s]\n"
     ]
    },
    {
     "name": "stdout",
     "output_type": "stream",
     "text": [
      "Downloading https://sofacoustics.org/data/database/hutubs/pp27_HRIRs_measured.sofa to /nas/home/jalbarracin/datasets/HUTUBS/HUTUBS/sofa/pp27_HRIRs_measured.sofa\n"
     ]
    },
    {
     "name": "stderr",
     "output_type": "stream",
     "text": [
      "100%|██████████| 1657585/1657585 [00:00<00:00, 8111632.59it/s]\n"
     ]
    },
    {
     "name": "stdout",
     "output_type": "stream",
     "text": [
      "Downloading https://sofacoustics.org/data/database/hutubs/pp28_HRIRs_measured.sofa to /nas/home/jalbarracin/datasets/HUTUBS/HUTUBS/sofa/pp28_HRIRs_measured.sofa\n"
     ]
    },
    {
     "name": "stderr",
     "output_type": "stream",
     "text": [
      "100%|██████████| 1658487/1658487 [00:00<00:00, 16928641.00it/s]\n"
     ]
    },
    {
     "name": "stdout",
     "output_type": "stream",
     "text": [
      "Downloading https://sofacoustics.org/data/database/hutubs/pp29_HRIRs_measured.sofa to /nas/home/jalbarracin/datasets/HUTUBS/HUTUBS/sofa/pp29_HRIRs_measured.sofa\n"
     ]
    },
    {
     "name": "stderr",
     "output_type": "stream",
     "text": [
      "100%|██████████| 1659393/1659393 [00:00<00:00, 17482470.30it/s]\n"
     ]
    },
    {
     "name": "stdout",
     "output_type": "stream",
     "text": [
      "Downloading https://sofacoustics.org/data/database/hutubs/pp30_HRIRs_measured.sofa to /nas/home/jalbarracin/datasets/HUTUBS/HUTUBS/sofa/pp30_HRIRs_measured.sofa\n"
     ]
    },
    {
     "name": "stderr",
     "output_type": "stream",
     "text": [
      "100%|██████████| 1653902/1653902 [00:00<00:00, 16897713.85it/s]\n"
     ]
    },
    {
     "name": "stdout",
     "output_type": "stream",
     "text": [
      "Downloading https://sofacoustics.org/data/database/hutubs/pp31_HRIRs_measured.sofa to /nas/home/jalbarracin/datasets/HUTUBS/HUTUBS/sofa/pp31_HRIRs_measured.sofa\n"
     ]
    },
    {
     "name": "stderr",
     "output_type": "stream",
     "text": [
      "100%|██████████| 1656933/1656933 [00:00<00:00, 17213300.45it/s]\n"
     ]
    },
    {
     "name": "stdout",
     "output_type": "stream",
     "text": [
      "Downloading https://sofacoustics.org/data/database/hutubs/pp32_HRIRs_measured.sofa to /nas/home/jalbarracin/datasets/HUTUBS/HUTUBS/sofa/pp32_HRIRs_measured.sofa\n"
     ]
    },
    {
     "name": "stderr",
     "output_type": "stream",
     "text": [
      "100%|██████████| 1657031/1657031 [00:00<00:00, 17410790.92it/s]\n"
     ]
    },
    {
     "name": "stdout",
     "output_type": "stream",
     "text": [
      "Downloading https://sofacoustics.org/data/database/hutubs/pp33_HRIRs_measured.sofa to /nas/home/jalbarracin/datasets/HUTUBS/HUTUBS/sofa/pp33_HRIRs_measured.sofa\n"
     ]
    },
    {
     "name": "stderr",
     "output_type": "stream",
     "text": [
      "100%|██████████| 1653185/1653185 [00:00<00:00, 18084834.00it/s]\n"
     ]
    },
    {
     "name": "stdout",
     "output_type": "stream",
     "text": [
      "Downloading https://sofacoustics.org/data/database/hutubs/pp34_HRIRs_measured.sofa to /nas/home/jalbarracin/datasets/HUTUBS/HUTUBS/sofa/pp34_HRIRs_measured.sofa\n"
     ]
    },
    {
     "name": "stderr",
     "output_type": "stream",
     "text": [
      "100%|██████████| 1657993/1657993 [00:00<00:00, 16737854.62it/s]\n"
     ]
    },
    {
     "name": "stdout",
     "output_type": "stream",
     "text": [
      "Downloading https://sofacoustics.org/data/database/hutubs/pp35_HRIRs_measured.sofa to /nas/home/jalbarracin/datasets/HUTUBS/HUTUBS/sofa/pp35_HRIRs_measured.sofa\n"
     ]
    },
    {
     "name": "stderr",
     "output_type": "stream",
     "text": [
      "100%|██████████| 1659401/1659401 [00:00<00:00, 16574425.62it/s]\n"
     ]
    },
    {
     "name": "stdout",
     "output_type": "stream",
     "text": [
      "Downloading https://sofacoustics.org/data/database/hutubs/pp36_HRIRs_measured.sofa to /nas/home/jalbarracin/datasets/HUTUBS/HUTUBS/sofa/pp36_HRIRs_measured.sofa\n"
     ]
    },
    {
     "name": "stderr",
     "output_type": "stream",
     "text": [
      "100%|██████████| 1659214/1659214 [00:00<00:00, 16038570.29it/s]\n"
     ]
    },
    {
     "name": "stdout",
     "output_type": "stream",
     "text": [
      "Downloading https://sofacoustics.org/data/database/hutubs/pp37_HRIRs_measured.sofa to /nas/home/jalbarracin/datasets/HUTUBS/HUTUBS/sofa/pp37_HRIRs_measured.sofa\n"
     ]
    },
    {
     "name": "stderr",
     "output_type": "stream",
     "text": [
      "100%|██████████| 1658179/1658179 [00:00<00:00, 17383008.19it/s]\n"
     ]
    },
    {
     "name": "stdout",
     "output_type": "stream",
     "text": [
      "Downloading https://sofacoustics.org/data/database/hutubs/pp38_HRIRs_measured.sofa to /nas/home/jalbarracin/datasets/HUTUBS/HUTUBS/sofa/pp38_HRIRs_measured.sofa\n"
     ]
    },
    {
     "name": "stderr",
     "output_type": "stream",
     "text": [
      "100%|██████████| 1659731/1659731 [00:00<00:00, 17150739.04it/s]\n"
     ]
    },
    {
     "name": "stdout",
     "output_type": "stream",
     "text": [
      "Downloading https://sofacoustics.org/data/database/hutubs/pp39_HRIRs_measured.sofa to /nas/home/jalbarracin/datasets/HUTUBS/HUTUBS/sofa/pp39_HRIRs_measured.sofa\n"
     ]
    },
    {
     "name": "stderr",
     "output_type": "stream",
     "text": [
      "100%|██████████| 1657266/1657266 [00:00<00:00, 9119803.06it/s]\n"
     ]
    },
    {
     "name": "stdout",
     "output_type": "stream",
     "text": [
      "Downloading https://sofacoustics.org/data/database/hutubs/pp40_HRIRs_measured.sofa to /nas/home/jalbarracin/datasets/HUTUBS/HUTUBS/sofa/pp40_HRIRs_measured.sofa\n"
     ]
    },
    {
     "name": "stderr",
     "output_type": "stream",
     "text": [
      "100%|██████████| 1657838/1657838 [00:00<00:00, 16082831.56it/s]\n"
     ]
    },
    {
     "name": "stdout",
     "output_type": "stream",
     "text": [
      "Downloading https://sofacoustics.org/data/database/hutubs/pp41_HRIRs_measured.sofa to /nas/home/jalbarracin/datasets/HUTUBS/HUTUBS/sofa/pp41_HRIRs_measured.sofa\n"
     ]
    },
    {
     "name": "stderr",
     "output_type": "stream",
     "text": [
      "100%|██████████| 1658160/1658160 [00:00<00:00, 17718085.94it/s]\n"
     ]
    },
    {
     "name": "stdout",
     "output_type": "stream",
     "text": [
      "Downloading https://sofacoustics.org/data/database/hutubs/pp42_HRIRs_measured.sofa to /nas/home/jalbarracin/datasets/HUTUBS/HUTUBS/sofa/pp42_HRIRs_measured.sofa\n"
     ]
    },
    {
     "name": "stderr",
     "output_type": "stream",
     "text": [
      "100%|██████████| 1655463/1655463 [00:00<00:00, 17030524.35it/s]\n"
     ]
    },
    {
     "name": "stdout",
     "output_type": "stream",
     "text": [
      "Downloading https://sofacoustics.org/data/database/hutubs/pp43_HRIRs_measured.sofa to /nas/home/jalbarracin/datasets/HUTUBS/HUTUBS/sofa/pp43_HRIRs_measured.sofa\n"
     ]
    },
    {
     "name": "stderr",
     "output_type": "stream",
     "text": [
      "100%|██████████| 1658463/1658463 [00:00<00:00, 11706365.53it/s]\n"
     ]
    },
    {
     "name": "stdout",
     "output_type": "stream",
     "text": [
      "Downloading https://sofacoustics.org/data/database/hutubs/pp44_HRIRs_measured.sofa to /nas/home/jalbarracin/datasets/HUTUBS/HUTUBS/sofa/pp44_HRIRs_measured.sofa\n"
     ]
    },
    {
     "name": "stderr",
     "output_type": "stream",
     "text": [
      "100%|██████████| 1658755/1658755 [00:00<00:00, 15989875.46it/s]\n"
     ]
    },
    {
     "name": "stdout",
     "output_type": "stream",
     "text": [
      "Downloading https://sofacoustics.org/data/database/hutubs/pp45_HRIRs_measured.sofa to /nas/home/jalbarracin/datasets/HUTUBS/HUTUBS/sofa/pp45_HRIRs_measured.sofa\n"
     ]
    },
    {
     "name": "stderr",
     "output_type": "stream",
     "text": [
      "100%|██████████| 1659786/1659786 [00:00<00:00, 17640276.85it/s]\n"
     ]
    },
    {
     "name": "stdout",
     "output_type": "stream",
     "text": [
      "Downloading https://sofacoustics.org/data/database/hutubs/pp46_HRIRs_measured.sofa to /nas/home/jalbarracin/datasets/HUTUBS/HUTUBS/sofa/pp46_HRIRs_measured.sofa\n"
     ]
    },
    {
     "name": "stderr",
     "output_type": "stream",
     "text": [
      "100%|██████████| 1658855/1658855 [00:00<00:00, 16157086.14it/s]\n"
     ]
    },
    {
     "name": "stdout",
     "output_type": "stream",
     "text": [
      "Downloading https://sofacoustics.org/data/database/hutubs/pp47_HRIRs_measured.sofa to /nas/home/jalbarracin/datasets/HUTUBS/HUTUBS/sofa/pp47_HRIRs_measured.sofa\n"
     ]
    },
    {
     "name": "stderr",
     "output_type": "stream",
     "text": [
      "100%|██████████| 1658551/1658551 [00:00<00:00, 15848946.38it/s]\n"
     ]
    },
    {
     "name": "stdout",
     "output_type": "stream",
     "text": [
      "Downloading https://sofacoustics.org/data/database/hutubs/pp48_HRIRs_measured.sofa to /nas/home/jalbarracin/datasets/HUTUBS/HUTUBS/sofa/pp48_HRIRs_measured.sofa\n"
     ]
    },
    {
     "name": "stderr",
     "output_type": "stream",
     "text": [
      "100%|██████████| 1651751/1651751 [00:00<00:00, 17107939.96it/s]\n"
     ]
    },
    {
     "name": "stdout",
     "output_type": "stream",
     "text": [
      "Downloading https://sofacoustics.org/data/database/hutubs/pp49_HRIRs_measured.sofa to /nas/home/jalbarracin/datasets/HUTUBS/HUTUBS/sofa/pp49_HRIRs_measured.sofa\n"
     ]
    },
    {
     "name": "stderr",
     "output_type": "stream",
     "text": [
      "100%|██████████| 1658502/1658502 [00:00<00:00, 17044981.70it/s]\n"
     ]
    },
    {
     "name": "stdout",
     "output_type": "stream",
     "text": [
      "Downloading https://sofacoustics.org/data/database/hutubs/pp50_HRIRs_measured.sofa to /nas/home/jalbarracin/datasets/HUTUBS/HUTUBS/sofa/pp50_HRIRs_measured.sofa\n"
     ]
    },
    {
     "name": "stderr",
     "output_type": "stream",
     "text": [
      "100%|██████████| 1658018/1658018 [00:00<00:00, 13543150.13it/s]\n"
     ]
    },
    {
     "name": "stdout",
     "output_type": "stream",
     "text": [
      "Downloading https://sofacoustics.org/data/database/hutubs/pp51_HRIRs_measured.sofa to /nas/home/jalbarracin/datasets/HUTUBS/HUTUBS/sofa/pp51_HRIRs_measured.sofa\n"
     ]
    },
    {
     "name": "stderr",
     "output_type": "stream",
     "text": [
      "100%|██████████| 1658232/1658232 [00:00<00:00, 16778551.62it/s]\n"
     ]
    },
    {
     "name": "stdout",
     "output_type": "stream",
     "text": [
      "Downloading https://sofacoustics.org/data/database/hutubs/pp52_HRIRs_measured.sofa to /nas/home/jalbarracin/datasets/HUTUBS/HUTUBS/sofa/pp52_HRIRs_measured.sofa\n"
     ]
    },
    {
     "name": "stderr",
     "output_type": "stream",
     "text": [
      "100%|██████████| 1656862/1656862 [00:00<00:00, 17591236.80it/s]\n"
     ]
    },
    {
     "name": "stdout",
     "output_type": "stream",
     "text": [
      "Downloading https://sofacoustics.org/data/database/hutubs/pp53_HRIRs_measured.sofa to /nas/home/jalbarracin/datasets/HUTUBS/HUTUBS/sofa/pp53_HRIRs_measured.sofa\n"
     ]
    },
    {
     "name": "stderr",
     "output_type": "stream",
     "text": [
      "100%|██████████| 1658072/1658072 [00:00<00:00, 14123738.10it/s]\n"
     ]
    },
    {
     "name": "stdout",
     "output_type": "stream",
     "text": [
      "Downloading https://sofacoustics.org/data/database/hutubs/pp54_HRIRs_measured.sofa to /nas/home/jalbarracin/datasets/HUTUBS/HUTUBS/sofa/pp54_HRIRs_measured.sofa\n"
     ]
    },
    {
     "name": "stderr",
     "output_type": "stream",
     "text": [
      "100%|██████████| 1656964/1656964 [00:00<00:00, 16966855.71it/s]\n"
     ]
    },
    {
     "name": "stdout",
     "output_type": "stream",
     "text": [
      "Downloading https://sofacoustics.org/data/database/hutubs/pp55_HRIRs_measured.sofa to /nas/home/jalbarracin/datasets/HUTUBS/HUTUBS/sofa/pp55_HRIRs_measured.sofa\n"
     ]
    },
    {
     "name": "stderr",
     "output_type": "stream",
     "text": [
      "100%|██████████| 1660423/1660423 [00:00<00:00, 13084897.31it/s]\n"
     ]
    },
    {
     "name": "stdout",
     "output_type": "stream",
     "text": [
      "Downloading https://sofacoustics.org/data/database/hutubs/pp56_HRIRs_measured.sofa to /nas/home/jalbarracin/datasets/HUTUBS/HUTUBS/sofa/pp56_HRIRs_measured.sofa\n"
     ]
    },
    {
     "name": "stderr",
     "output_type": "stream",
     "text": [
      "100%|██████████| 1658378/1658378 [00:00<00:00, 17704268.37it/s]\n"
     ]
    },
    {
     "name": "stdout",
     "output_type": "stream",
     "text": [
      "Downloading https://sofacoustics.org/data/database/hutubs/pp57_HRIRs_measured.sofa to /nas/home/jalbarracin/datasets/HUTUBS/HUTUBS/sofa/pp57_HRIRs_measured.sofa\n"
     ]
    },
    {
     "name": "stderr",
     "output_type": "stream",
     "text": [
      "100%|██████████| 1659055/1659055 [00:00<00:00, 16354122.56it/s]\n"
     ]
    },
    {
     "name": "stdout",
     "output_type": "stream",
     "text": [
      "Downloading https://sofacoustics.org/data/database/hutubs/pp58_HRIRs_measured.sofa to /nas/home/jalbarracin/datasets/HUTUBS/HUTUBS/sofa/pp58_HRIRs_measured.sofa\n"
     ]
    },
    {
     "name": "stderr",
     "output_type": "stream",
     "text": [
      "100%|██████████| 1657214/1657214 [00:00<00:00, 17571000.33it/s]\n"
     ]
    },
    {
     "name": "stdout",
     "output_type": "stream",
     "text": [
      "Downloading https://sofacoustics.org/data/database/hutubs/pp59_HRIRs_measured.sofa to /nas/home/jalbarracin/datasets/HUTUBS/HUTUBS/sofa/pp59_HRIRs_measured.sofa\n"
     ]
    },
    {
     "name": "stderr",
     "output_type": "stream",
     "text": [
      "100%|██████████| 1658995/1658995 [00:00<00:00, 17210253.85it/s]\n"
     ]
    },
    {
     "name": "stdout",
     "output_type": "stream",
     "text": [
      "Downloading https://sofacoustics.org/data/database/hutubs/pp60_HRIRs_measured.sofa to /nas/home/jalbarracin/datasets/HUTUBS/HUTUBS/sofa/pp60_HRIRs_measured.sofa\n"
     ]
    },
    {
     "name": "stderr",
     "output_type": "stream",
     "text": [
      "100%|██████████| 1656886/1656886 [00:00<00:00, 17842292.14it/s]\n"
     ]
    },
    {
     "name": "stdout",
     "output_type": "stream",
     "text": [
      "Downloading https://sofacoustics.org/data/database/hutubs/pp61_HRIRs_measured.sofa to /nas/home/jalbarracin/datasets/HUTUBS/HUTUBS/sofa/pp61_HRIRs_measured.sofa\n"
     ]
    },
    {
     "name": "stderr",
     "output_type": "stream",
     "text": [
      "100%|██████████| 1658304/1658304 [00:00<00:00, 14637774.06it/s]\n"
     ]
    },
    {
     "name": "stdout",
     "output_type": "stream",
     "text": [
      "Downloading https://sofacoustics.org/data/database/hutubs/pp62_HRIRs_measured.sofa to /nas/home/jalbarracin/datasets/HUTUBS/HUTUBS/sofa/pp62_HRIRs_measured.sofa\n"
     ]
    },
    {
     "name": "stderr",
     "output_type": "stream",
     "text": [
      "100%|██████████| 1659485/1659485 [00:00<00:00, 17715409.96it/s]\n"
     ]
    },
    {
     "name": "stdout",
     "output_type": "stream",
     "text": [
      "Downloading https://sofacoustics.org/data/database/hutubs/pp63_HRIRs_measured.sofa to /nas/home/jalbarracin/datasets/HUTUBS/HUTUBS/sofa/pp63_HRIRs_measured.sofa\n"
     ]
    },
    {
     "name": "stderr",
     "output_type": "stream",
     "text": [
      "100%|██████████| 1660035/1660035 [00:00<00:00, 17214485.83it/s]\n"
     ]
    },
    {
     "name": "stdout",
     "output_type": "stream",
     "text": [
      "Downloading https://sofacoustics.org/data/database/hutubs/pp64_HRIRs_measured.sofa to /nas/home/jalbarracin/datasets/HUTUBS/HUTUBS/sofa/pp64_HRIRs_measured.sofa\n"
     ]
    },
    {
     "name": "stderr",
     "output_type": "stream",
     "text": [
      "100%|██████████| 1654445/1654445 [00:00<00:00, 16691189.70it/s]\n"
     ]
    },
    {
     "name": "stdout",
     "output_type": "stream",
     "text": [
      "Downloading https://sofacoustics.org/data/database/hutubs/pp65_HRIRs_measured.sofa to /nas/home/jalbarracin/datasets/HUTUBS/HUTUBS/sofa/pp65_HRIRs_measured.sofa\n"
     ]
    },
    {
     "name": "stderr",
     "output_type": "stream",
     "text": [
      "100%|██████████| 1658600/1658600 [00:00<00:00, 18274619.79it/s]\n"
     ]
    },
    {
     "name": "stdout",
     "output_type": "stream",
     "text": [
      "Downloading https://sofacoustics.org/data/database/hutubs/pp66_HRIRs_measured.sofa to /nas/home/jalbarracin/datasets/HUTUBS/HUTUBS/sofa/pp66_HRIRs_measured.sofa\n"
     ]
    },
    {
     "name": "stderr",
     "output_type": "stream",
     "text": [
      "100%|██████████| 1660353/1660353 [00:00<00:00, 17482001.51it/s]\n"
     ]
    },
    {
     "name": "stdout",
     "output_type": "stream",
     "text": [
      "Downloading https://sofacoustics.org/data/database/hutubs/pp67_HRIRs_measured.sofa to /nas/home/jalbarracin/datasets/HUTUBS/HUTUBS/sofa/pp67_HRIRs_measured.sofa\n"
     ]
    },
    {
     "name": "stderr",
     "output_type": "stream",
     "text": [
      "100%|██████████| 1660521/1660521 [00:00<00:00, 15865602.71it/s]\n"
     ]
    },
    {
     "name": "stdout",
     "output_type": "stream",
     "text": [
      "Downloading https://sofacoustics.org/data/database/hutubs/pp68_HRIRs_measured.sofa to /nas/home/jalbarracin/datasets/HUTUBS/HUTUBS/sofa/pp68_HRIRs_measured.sofa\n"
     ]
    },
    {
     "name": "stderr",
     "output_type": "stream",
     "text": [
      "100%|██████████| 1657551/1657551 [00:00<00:00, 15266634.73it/s]\n"
     ]
    },
    {
     "name": "stdout",
     "output_type": "stream",
     "text": [
      "Downloading https://sofacoustics.org/data/database/hutubs/pp69_HRIRs_measured.sofa to /nas/home/jalbarracin/datasets/HUTUBS/HUTUBS/sofa/pp69_HRIRs_measured.sofa\n"
     ]
    },
    {
     "name": "stderr",
     "output_type": "stream",
     "text": [
      "100%|██████████| 1654875/1654875 [00:00<00:00, 17396068.76it/s]\n"
     ]
    },
    {
     "name": "stdout",
     "output_type": "stream",
     "text": [
      "Downloading https://sofacoustics.org/data/database/hutubs/pp70_HRIRs_measured.sofa to /nas/home/jalbarracin/datasets/HUTUBS/HUTUBS/sofa/pp70_HRIRs_measured.sofa\n"
     ]
    },
    {
     "name": "stderr",
     "output_type": "stream",
     "text": [
      "100%|██████████| 1659607/1659607 [00:00<00:00, 18280960.78it/s]\n"
     ]
    },
    {
     "name": "stdout",
     "output_type": "stream",
     "text": [
      "Downloading https://sofacoustics.org/data/database/hutubs/pp71_HRIRs_measured.sofa to /nas/home/jalbarracin/datasets/HUTUBS/HUTUBS/sofa/pp71_HRIRs_measured.sofa\n"
     ]
    },
    {
     "name": "stderr",
     "output_type": "stream",
     "text": [
      "100%|██████████| 1657210/1657210 [00:00<00:00, 16864427.73it/s]\n"
     ]
    },
    {
     "name": "stdout",
     "output_type": "stream",
     "text": [
      "Downloading https://sofacoustics.org/data/database/hutubs/pp72_HRIRs_measured.sofa to /nas/home/jalbarracin/datasets/HUTUBS/HUTUBS/sofa/pp72_HRIRs_measured.sofa\n"
     ]
    },
    {
     "name": "stderr",
     "output_type": "stream",
     "text": [
      "100%|██████████| 1659066/1659066 [00:00<00:00, 16593326.45it/s]\n"
     ]
    },
    {
     "name": "stdout",
     "output_type": "stream",
     "text": [
      "Downloading https://sofacoustics.org/data/database/hutubs/pp73_HRIRs_measured.sofa to /nas/home/jalbarracin/datasets/HUTUBS/HUTUBS/sofa/pp73_HRIRs_measured.sofa\n"
     ]
    },
    {
     "name": "stderr",
     "output_type": "stream",
     "text": [
      "100%|██████████| 1654290/1654290 [00:00<00:00, 14463693.08it/s]\n"
     ]
    },
    {
     "name": "stdout",
     "output_type": "stream",
     "text": [
      "Downloading https://sofacoustics.org/data/database/hutubs/pp74_HRIRs_measured.sofa to /nas/home/jalbarracin/datasets/HUTUBS/HUTUBS/sofa/pp74_HRIRs_measured.sofa\n"
     ]
    },
    {
     "name": "stderr",
     "output_type": "stream",
     "text": [
      "100%|██████████| 1659269/1659269 [00:00<00:00, 16270195.73it/s]\n"
     ]
    },
    {
     "name": "stdout",
     "output_type": "stream",
     "text": [
      "Downloading https://sofacoustics.org/data/database/hutubs/pp75_HRIRs_measured.sofa to /nas/home/jalbarracin/datasets/HUTUBS/HUTUBS/sofa/pp75_HRIRs_measured.sofa\n"
     ]
    },
    {
     "name": "stderr",
     "output_type": "stream",
     "text": [
      "100%|██████████| 1658577/1658577 [00:00<00:00, 18211361.38it/s]\n"
     ]
    },
    {
     "name": "stdout",
     "output_type": "stream",
     "text": [
      "Downloading https://sofacoustics.org/data/database/hutubs/pp76_HRIRs_measured.sofa to /nas/home/jalbarracin/datasets/HUTUBS/HUTUBS/sofa/pp76_HRIRs_measured.sofa\n"
     ]
    },
    {
     "name": "stderr",
     "output_type": "stream",
     "text": [
      "100%|██████████| 1659591/1659591 [00:00<00:00, 15915050.21it/s]\n"
     ]
    },
    {
     "name": "stdout",
     "output_type": "stream",
     "text": [
      "Downloading https://sofacoustics.org/data/database/hutubs/pp77_HRIRs_measured.sofa to /nas/home/jalbarracin/datasets/HUTUBS/HUTUBS/sofa/pp77_HRIRs_measured.sofa\n"
     ]
    },
    {
     "name": "stderr",
     "output_type": "stream",
     "text": [
      "100%|██████████| 1657759/1657759 [00:00<00:00, 16035148.84it/s]\n"
     ]
    },
    {
     "name": "stdout",
     "output_type": "stream",
     "text": [
      "Downloading https://sofacoustics.org/data/database/hutubs/pp78_HRIRs_measured.sofa to /nas/home/jalbarracin/datasets/HUTUBS/HUTUBS/sofa/pp78_HRIRs_measured.sofa\n"
     ]
    },
    {
     "name": "stderr",
     "output_type": "stream",
     "text": [
      "100%|██████████| 1659665/1659665 [00:00<00:00, 16575562.54it/s]\n"
     ]
    },
    {
     "name": "stdout",
     "output_type": "stream",
     "text": [
      "Downloading https://sofacoustics.org/data/database/hutubs/pp79_HRIRs_measured.sofa to /nas/home/jalbarracin/datasets/HUTUBS/HUTUBS/sofa/pp79_HRIRs_measured.sofa\n"
     ]
    },
    {
     "name": "stderr",
     "output_type": "stream",
     "text": [
      "100%|██████████| 1659840/1659840 [00:00<00:00, 17493902.78it/s]\n"
     ]
    },
    {
     "name": "stdout",
     "output_type": "stream",
     "text": [
      "Downloading https://sofacoustics.org/data/database/hutubs/pp80_HRIRs_measured.sofa to /nas/home/jalbarracin/datasets/HUTUBS/HUTUBS/sofa/pp80_HRIRs_measured.sofa\n"
     ]
    },
    {
     "name": "stderr",
     "output_type": "stream",
     "text": [
      "100%|██████████| 1659366/1659366 [00:00<00:00, 16575852.33it/s]\n"
     ]
    },
    {
     "name": "stdout",
     "output_type": "stream",
     "text": [
      "Downloading https://sofacoustics.org/data/database/hutubs/pp81_HRIRs_measured.sofa to /nas/home/jalbarracin/datasets/HUTUBS/HUTUBS/sofa/pp81_HRIRs_measured.sofa\n"
     ]
    },
    {
     "name": "stderr",
     "output_type": "stream",
     "text": [
      "100%|██████████| 1661323/1661323 [00:00<00:00, 17196507.70it/s]\n"
     ]
    },
    {
     "name": "stdout",
     "output_type": "stream",
     "text": [
      "Downloading https://sofacoustics.org/data/database/hutubs/pp82_HRIRs_measured.sofa to /nas/home/jalbarracin/datasets/HUTUBS/HUTUBS/sofa/pp82_HRIRs_measured.sofa\n"
     ]
    },
    {
     "name": "stderr",
     "output_type": "stream",
     "text": [
      "100%|██████████| 1657143/1657143 [00:00<00:00, 17607725.27it/s]\n"
     ]
    },
    {
     "name": "stdout",
     "output_type": "stream",
     "text": [
      "Downloading https://sofacoustics.org/data/database/hutubs/pp83_HRIRs_measured.sofa to /nas/home/jalbarracin/datasets/HUTUBS/HUTUBS/sofa/pp83_HRIRs_measured.sofa\n"
     ]
    },
    {
     "name": "stderr",
     "output_type": "stream",
     "text": [
      "100%|██████████| 1655073/1655073 [00:00<00:00, 16678950.58it/s]\n"
     ]
    },
    {
     "name": "stdout",
     "output_type": "stream",
     "text": [
      "Downloading https://sofacoustics.org/data/database/hutubs/pp84_HRIRs_measured.sofa to /nas/home/jalbarracin/datasets/HUTUBS/HUTUBS/sofa/pp84_HRIRs_measured.sofa\n"
     ]
    },
    {
     "name": "stderr",
     "output_type": "stream",
     "text": [
      "100%|██████████| 1658581/1658581 [00:00<00:00, 16047800.01it/s]\n"
     ]
    },
    {
     "name": "stdout",
     "output_type": "stream",
     "text": [
      "Downloading https://sofacoustics.org/data/database/hutubs/pp85_HRIRs_measured.sofa to /nas/home/jalbarracin/datasets/HUTUBS/HUTUBS/sofa/pp85_HRIRs_measured.sofa\n"
     ]
    },
    {
     "name": "stderr",
     "output_type": "stream",
     "text": [
      "100%|██████████| 1659228/1659228 [00:00<00:00, 17416336.04it/s]\n"
     ]
    },
    {
     "name": "stdout",
     "output_type": "stream",
     "text": [
      "Downloading https://sofacoustics.org/data/database/hutubs/pp86_HRIRs_measured.sofa to /nas/home/jalbarracin/datasets/HUTUBS/HUTUBS/sofa/pp86_HRIRs_measured.sofa\n"
     ]
    },
    {
     "name": "stderr",
     "output_type": "stream",
     "text": [
      "100%|██████████| 1656566/1656566 [00:00<00:00, 17560001.52it/s]\n"
     ]
    },
    {
     "name": "stdout",
     "output_type": "stream",
     "text": [
      "Downloading https://sofacoustics.org/data/database/hutubs/pp87_HRIRs_measured.sofa to /nas/home/jalbarracin/datasets/HUTUBS/HUTUBS/sofa/pp87_HRIRs_measured.sofa\n"
     ]
    },
    {
     "name": "stderr",
     "output_type": "stream",
     "text": [
      "100%|██████████| 1659255/1659255 [00:00<00:00, 17236184.85it/s]\n"
     ]
    },
    {
     "name": "stdout",
     "output_type": "stream",
     "text": [
      "Downloading https://sofacoustics.org/data/database/hutubs/pp88_HRIRs_measured.sofa to /nas/home/jalbarracin/datasets/HUTUBS/HUTUBS/sofa/pp88_HRIRs_measured.sofa\n"
     ]
    },
    {
     "name": "stderr",
     "output_type": "stream",
     "text": [
      "100%|██████████| 1658762/1658762 [00:00<00:00, 16876208.81it/s]\n"
     ]
    },
    {
     "name": "stdout",
     "output_type": "stream",
     "text": [
      "Downloading https://sofacoustics.org/data/database/hutubs/pp89_HRIRs_measured.sofa to /nas/home/jalbarracin/datasets/HUTUBS/HUTUBS/sofa/pp89_HRIRs_measured.sofa\n"
     ]
    },
    {
     "name": "stderr",
     "output_type": "stream",
     "text": [
      "100%|██████████| 1659067/1659067 [00:00<00:00, 17183757.55it/s]\n"
     ]
    },
    {
     "name": "stdout",
     "output_type": "stream",
     "text": [
      "Downloading https://sofacoustics.org/data/database/hutubs/pp90_HRIRs_measured.sofa to /nas/home/jalbarracin/datasets/HUTUBS/HUTUBS/sofa/pp90_HRIRs_measured.sofa\n"
     ]
    },
    {
     "name": "stderr",
     "output_type": "stream",
     "text": [
      "100%|██████████| 1660364/1660364 [00:00<00:00, 17466376.48it/s]\n"
     ]
    },
    {
     "name": "stdout",
     "output_type": "stream",
     "text": [
      "Downloading https://sofacoustics.org/data/database/hutubs/pp91_HRIRs_measured.sofa to /nas/home/jalbarracin/datasets/HUTUBS/HUTUBS/sofa/pp91_HRIRs_measured.sofa\n"
     ]
    },
    {
     "name": "stderr",
     "output_type": "stream",
     "text": [
      "100%|██████████| 1657998/1657998 [00:00<00:00, 17553709.18it/s]\n"
     ]
    },
    {
     "name": "stdout",
     "output_type": "stream",
     "text": [
      "Downloading https://sofacoustics.org/data/database/hutubs/pp92_HRIRs_measured.sofa to /nas/home/jalbarracin/datasets/HUTUBS/HUTUBS/sofa/pp92_HRIRs_measured.sofa\n"
     ]
    },
    {
     "name": "stderr",
     "output_type": "stream",
     "text": [
      "100%|██████████| 1659562/1659562 [00:00<00:00, 17654492.90it/s]\n"
     ]
    },
    {
     "name": "stdout",
     "output_type": "stream",
     "text": [
      "Downloading https://sofacoustics.org/data/database/hutubs/pp93_HRIRs_measured.sofa to /nas/home/jalbarracin/datasets/HUTUBS/HUTUBS/sofa/pp93_HRIRs_measured.sofa\n"
     ]
    },
    {
     "name": "stderr",
     "output_type": "stream",
     "text": [
      "100%|██████████| 1658579/1658579 [00:00<00:00, 17642335.34it/s]\n"
     ]
    },
    {
     "name": "stdout",
     "output_type": "stream",
     "text": [
      "Downloading https://sofacoustics.org/data/database/hutubs/pp94_HRIRs_measured.sofa to /nas/home/jalbarracin/datasets/HUTUBS/HUTUBS/sofa/pp94_HRIRs_measured.sofa\n"
     ]
    },
    {
     "name": "stderr",
     "output_type": "stream",
     "text": [
      "100%|██████████| 1660208/1660208 [00:00<00:00, 15313300.32it/s]\n"
     ]
    },
    {
     "name": "stdout",
     "output_type": "stream",
     "text": [
      "Downloading https://sofacoustics.org/data/database/hutubs/pp95_HRIRs_measured.sofa to /nas/home/jalbarracin/datasets/HUTUBS/HUTUBS/sofa/pp95_HRIRs_measured.sofa\n"
     ]
    },
    {
     "name": "stderr",
     "output_type": "stream",
     "text": [
      "100%|██████████| 1657853/1657853 [00:00<00:00, 15257020.07it/s]\n"
     ]
    },
    {
     "name": "stdout",
     "output_type": "stream",
     "text": [
      "Downloading https://sofacoustics.org/data/database/hutubs/pp96_HRIRs_measured.sofa to /nas/home/jalbarracin/datasets/HUTUBS/HUTUBS/sofa/pp96_HRIRs_measured.sofa\n"
     ]
    },
    {
     "name": "stderr",
     "output_type": "stream",
     "text": [
      "100%|██████████| 1659405/1659405 [00:00<00:00, 12847131.34it/s]\n",
      "Loading data from disk: 100%|██████████| 86/86 [00:04<00:00, 19.38it/s]\n",
      "Preprocessing hrir: 100%|██████████| 1/1 [00:00<00:00, 567.87it/s]\n"
     ]
    }
   ],
   "source": [
    "plane = 'horizontal'\n",
    "domain = 'time'\n",
    "side = 'left'\n",
    "\n",
    "ds = HutubsPlane(base_dir / 'HUTUBS', plane, domain, side, download=True)\n",
    "samplerate=44100"
   ],
   "metadata": {
    "collapsed": false,
    "ExecuteTime": {
     "end_time": "2023-11-13T09:47:44.693193300Z",
     "start_time": "2023-11-13T09:46:58.909789700Z"
    }
   },
   "id": "ea3b88d8fa3abacf"
  },
  {
   "cell_type": "code",
   "execution_count": 4,
   "outputs": [
    {
     "data": {
      "text/plain": "86"
     },
     "execution_count": 4,
     "metadata": {},
     "output_type": "execute_result"
    }
   ],
   "source": [
    "len(ds)"
   ],
   "metadata": {
    "collapsed": false,
    "ExecuteTime": {
     "end_time": "2023-11-13T09:49:01.629750900Z",
     "start_time": "2023-11-13T09:49:01.567253200Z"
    }
   },
   "id": "eb38925ceaa92aad"
  },
  {
   "cell_type": "code",
   "execution_count": 5,
   "outputs": [],
   "source": [
    "for j in range(len(ds)):\n",
    "    p = ds[j]\n",
    "    for x in range(p['features'].shape[0]):\n",
    "        left_data = np.asarray(p['features'][x,:])\n",
    "        sf.write(f'/nas/home/jalbarracin/datasets/hrir_l/pp{ds.available_subject_ids[j]}_HRIRs_measured_{x}_l.wav', left_data, samplerate)"
   ],
   "metadata": {
    "collapsed": false,
    "ExecuteTime": {
     "end_time": "2023-11-13T09:49:52.694903400Z",
     "start_time": "2023-11-13T09:49:46.965439600Z"
    }
   },
   "id": "a256cd1b45167f43"
  },
  {
   "cell_type": "code",
   "execution_count": 3,
   "outputs": [],
   "source": [
    "import os\n",
    "import pandas as pd\n",
    "import re\n",
    "\n",
    "directory = '/nas/home/jalbarracin/datasets/hrir_st'\n",
    "\n",
    "# Initialize lists to store extracted information\n",
    "file_names = []\n",
    "subject_ids = []\n",
    "azimuths = []\n",
    "\n",
    "# Define a function to extract subject ID and azimuth from file name\n",
    "def extract_info(file_name):\n",
    "    match = re.match(r\"pp(\\d+)_HRIRs_measured_(\\d+).wav\", file_name)\n",
    "    if match:\n",
    "        subject_id = int(match.group(1))\n",
    "        azimuth = int(match.group(2))\n",
    "        return subject_id, azimuth\n",
    "    else:\n",
    "        return None\n",
    "\n",
    "# Loop through files in the directory\n",
    "for file_name in os.listdir(directory):\n",
    "    file_path = os.path.join(directory, file_name)\n",
    "    \n",
    "    # Check if the file is a WAV file\n",
    "    if file_name.endswith(\".wav\"):\n",
    "        file_names.append(file_name)\n",
    "        \n",
    "        # Extract subject ID and azimuth\n",
    "        info = extract_info(file_name)\n",
    "        if info:\n",
    "            subject_id, azimuth = info\n",
    "            subject_ids.append(subject_id)\n",
    "            azimuths.append(azimuth)\n",
    "\n",
    "# Create a DataFrame with the extracted information\n",
    "data = {'file_name': file_names, 'subject_id': subject_ids, 'azimuth': azimuths}\n",
    "df = pd.DataFrame(data)\n",
    "\n",
    "# Optional: Create a label column as discussed in previous responses\n",
    "df['label'] = df.apply(lambda row: f\"Subject{row['subject_id']}_{row['azimuth']}\", axis=1)\n",
    "df.to_csv('labeled_data.csv', index=False)"
   ],
   "metadata": {
    "collapsed": false,
    "ExecuteTime": {
     "end_time": "2023-11-22T13:00:04.097127900Z",
     "start_time": "2023-11-22T13:00:03.962393700Z"
    }
   },
   "id": "3f03f313df2a1bbb"
  }
 ],
 "metadata": {
  "kernelspec": {
   "display_name": "Python 3",
   "language": "python",
   "name": "python3"
  },
  "language_info": {
   "codemirror_mode": {
    "name": "ipython",
    "version": 2
   },
   "file_extension": ".py",
   "mimetype": "text/x-python",
   "name": "python",
   "nbconvert_exporter": "python",
   "pygments_lexer": "ipython2",
   "version": "2.7.6"
  }
 },
 "nbformat": 4,
 "nbformat_minor": 5
}
