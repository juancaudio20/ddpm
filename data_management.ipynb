{
 "cells": [
  {
   "cell_type": "code",
   "execution_count": 1,
   "id": "initial_id",
   "metadata": {
    "collapsed": true,
    "ExecuteTime": {
     "end_time": "2023-12-06T10:07:20.122735200Z",
     "start_time": "2023-12-06T10:07:07.746592600Z"
    }
   },
   "outputs": [],
   "source": [
    "from hartufo import HutubsPlane, ItaPlane\n",
    "import hartufo\n",
    "from pathlib import Path\n",
    "import matplotlib.pyplot as plt\n",
    "import scipy.signal\n",
    "import soundfile as sf\n",
    "import numpy as np\n",
    "import librosa\n",
    "import random\n",
    "import torchaudio"
   ]
  },
  {
   "cell_type": "code",
   "execution_count": 2,
   "outputs": [],
   "source": [
    "base_dir = Path('/nas/home/jalbarracin/datasets/HUTUBS')"
   ],
   "metadata": {
    "collapsed": false,
    "ExecuteTime": {
     "end_time": "2023-12-06T10:07:52.624632400Z",
     "start_time": "2023-12-06T10:07:52.575953600Z"
    }
   },
   "id": "26113d9285a4fc79"
  },
  {
   "cell_type": "code",
   "execution_count": 5,
   "outputs": [
    {
     "name": "stderr",
     "output_type": "stream",
     "text": [
      "Loading data from disk: 100%|██████████| 172/172 [00:11<00:00, 14.95it/s]\n",
      "Preprocessing hrir: 100%|██████████| 1/1 [00:00<00:00, 337.35it/s]\n"
     ]
    }
   ],
   "source": [
    "plane = 'horizontal'\n",
    "domain = 'time'\n",
    "side = 'both'\n",
    "\n",
    "ds = HutubsPlane(base_dir / 'HUTUBS', plane, domain, side, download=False)\n",
    "samplerate=44100"
   ],
   "metadata": {
    "collapsed": false,
    "ExecuteTime": {
     "end_time": "2023-12-06T10:11:27.426610900Z",
     "start_time": "2023-12-06T10:11:14.215456400Z"
    }
   },
   "id": "ea3b88d8fa3abacf"
  },
  {
   "cell_type": "code",
   "execution_count": 4,
   "outputs": [
    {
     "data": {
      "text/plain": "86"
     },
     "execution_count": 4,
     "metadata": {},
     "output_type": "execute_result"
    }
   ],
   "source": [
    "len(ds)"
   ],
   "metadata": {
    "collapsed": false,
    "ExecuteTime": {
     "end_time": "2023-12-06T10:10:30.695333600Z",
     "start_time": "2023-12-06T10:10:30.675027400Z"
    }
   },
   "id": "eb38925ceaa92aad"
  },
  {
   "cell_type": "code",
   "execution_count": 5,
   "outputs": [],
   "source": [
    "for j in range(len(ds)):\n",
    "    p = ds[j]\n",
    "    for x in range(p['features'].shape[0]):\n",
    "        left_data = np.asarray(p['features'][x,:])\n",
    "        sf.write(f'/nas/home/jalbarracin/datasets/hrir_l/pp{ds.available_subject_ids[j]}_HRIRs_measured_{x}_l.wav', left_data, samplerate)"
   ],
   "metadata": {
    "collapsed": false,
    "ExecuteTime": {
     "end_time": "2023-11-13T09:49:52.694903400Z",
     "start_time": "2023-11-13T09:49:46.965439600Z"
    }
   },
   "id": "a256cd1b45167f43"
  },
  {
   "cell_type": "code",
   "execution_count": 3,
   "outputs": [],
   "source": [
    "import os\n",
    "import pandas as pd\n",
    "import re\n",
    "\n",
    "directory = '/nas/home/jalbarracin/datasets/hrir_st'\n",
    "\n",
    "# Initialize lists to store extracted information\n",
    "file_names = []\n",
    "subject_ids = []\n",
    "azimuths = []\n",
    "\n",
    "# Define a function to extract subject ID and azimuth from file name\n",
    "def extract_info(file_name):\n",
    "    match = re.match(r\"pp(\\d+)_HRIRs_measured_(\\d+).wav\", file_name)\n",
    "    if match:\n",
    "        subject_id = int(match.group(1))\n",
    "        azimuth = int(match.group(2))\n",
    "        return subject_id, azimuth\n",
    "    else:\n",
    "        return None\n",
    "\n",
    "# Loop through files in the directory\n",
    "for file_name in os.listdir(directory):\n",
    "    file_path = os.path.join(directory, file_name)\n",
    "    \n",
    "    # Check if the file is a WAV file\n",
    "    if file_name.endswith(\".wav\"):\n",
    "        file_names.append(file_name)\n",
    "        \n",
    "        # Extract subject ID and azimuth\n",
    "        info = extract_info(file_name)\n",
    "        if info:\n",
    "            subject_id, azimuth = info\n",
    "            subject_ids.append(subject_id)\n",
    "            azimuths.append(azimuth)\n",
    "\n",
    "# Create a DataFrame with the extracted information\n",
    "data = {'file_name': file_names, 'subject_id': subject_ids, 'azimuth': azimuths}\n",
    "df = pd.DataFrame(data)\n",
    "\n",
    "# Optional: Create a label column as discussed in previous responses\n",
    "df['label'] = df.apply(lambda row: f\"Subject{row['subject_id']}_{row['azimuth']}\", axis=1)\n",
    "df.to_csv('labeled_data.csv', index=False)"
   ],
   "metadata": {
    "collapsed": false,
    "ExecuteTime": {
     "end_time": "2023-11-22T13:00:04.097127900Z",
     "start_time": "2023-11-22T13:00:03.962393700Z"
    }
   },
   "id": "3f03f313df2a1bbb"
  }
 ],
 "metadata": {
  "kernelspec": {
   "display_name": "Python 3",
   "language": "python",
   "name": "python3"
  },
  "language_info": {
   "codemirror_mode": {
    "name": "ipython",
    "version": 2
   },
   "file_extension": ".py",
   "mimetype": "text/x-python",
   "name": "python",
   "nbconvert_exporter": "python",
   "pygments_lexer": "ipython2",
   "version": "2.7.6"
  }
 },
 "nbformat": 4,
 "nbformat_minor": 5
}
